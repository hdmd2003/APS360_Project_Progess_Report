{
  "nbformat": 4,
  "nbformat_minor": 0,
  "metadata": {
    "colab": {
      "provenance": [],
      "collapsed_sections": []
    },
    "kernelspec": {
      "name": "python3",
      "display_name": "Python 3"
    },
    "language_info": {
      "name": "python"
    },
    "accelerator": "GPU",
    "gpuClass": "standard"
  },
  "cells": [
    {
      "cell_type": "markdown",
      "source": [
        "*The focus of this notebook is to get the data, clean the data, and run a baseline LSTM model on it.*"
      ],
      "metadata": {
        "id": "3Nr4tWJRtezC"
      }
    },
    {
      "cell_type": "markdown",
      "source": [
        "# Importing Libraries"
      ],
      "metadata": {
        "id": "L79AStaStQdL"
      }
    },
    {
      "cell_type": "markdown",
      "source": [
        "Getting necessary imports for baseline."
      ],
      "metadata": {
        "id": "ksE87RPQtamP"
      }
    },
    {
      "cell_type": "code",
      "source": [
        "# Standard Imports\n",
        "import pandas as pd\n",
        "import numpy as np\n",
        "import matplotlib.pyplot as plt\n",
        "import nltk\n",
        "import seaborn as sns\n",
        "import re \n",
        "\n",
        "# Pytorch Imports\n",
        "import torch \n",
        "from torch import nn\n",
        "from torch.utils.data import DataLoader, TensorDataset\n",
        "import torch.nn as nn\n",
        "import torch.nn.functional as F\n",
        "import torchtext\n",
        "import torch.optim as optim\n",
        "import torchvision\n",
        "import torchvision.transforms as transforms\n",
        "from torch.utils.data.sampler import SubsetRandomSampler\n",
        "\n",
        "# TensorFlow utilities and sklearn for train test split\n",
        "from tensorflow.keras.preprocessing.text import Tokenizer\n",
        "from tensorflow.keras.preprocessing.sequence import pad_sequences \n",
        "from sklearn.model_selection import train_test_split \n",
        "\n",
        "#Set random seed\n",
        "torch.manual_seed(1)\n",
        "np.random.seed(1) \n",
        "\n",
        "from sklearn.metrics import r2_score as r2"
      ],
      "metadata": {
        "id": "zIcVVsnRtXbK"
      },
      "execution_count": null,
      "outputs": []
    },
    {
      "cell_type": "markdown",
      "source": [
        "# 1 Data Import"
      ],
      "metadata": {
        "id": "J3hk-Ienu80v"
      }
    },
    {
      "cell_type": "code",
      "source": [
        "from google.colab import drive\n",
        "drive.mount('/content/drive') \n",
        "\n",
        "# Where the files were uploaded\n",
        "root_dir = '/content/drive/My Drive/EngSci2/S1F/APS360/Project/'"
      ],
      "metadata": {
        "id": "Bfm_Ab0GuJ5Z",
        "colab": {
          "base_uri": "https://localhost:8080/"
        },
        "outputId": "66980370-8a9f-47cf-be7b-246e41447fa7"
      },
      "execution_count": null,
      "outputs": [
        {
          "output_type": "stream",
          "name": "stdout",
          "text": [
            "Drive already mounted at /content/drive; to attempt to forcibly remount, call drive.mount(\"/content/drive\", force_remount=True).\n"
          ]
        }
      ]
    },
    {
      "cell_type": "code",
      "source": [
        "data = pd.read_excel(\"CLEAR_corpus_final.xlsx\")"
      ],
      "metadata": {
        "id": "BmTPn5i9vP9C"
      },
      "execution_count": null,
      "outputs": []
    },
    {
      "cell_type": "code",
      "source": [
        "data"
      ],
      "metadata": {
        "id": "d3fduVaF4a5A",
        "colab": {
          "base_uri": "https://localhost:8080/",
          "height": 834
        },
        "outputId": "a6757327-6ad6-4f08-9bca-2c1486efaa23"
      },
      "execution_count": null,
      "outputs": [
        {
          "output_type": "execute_result",
          "data": {
            "text/plain": [
              "        ID            Author  \\\n",
              "0      400     Carolyn Wells   \n",
              "1      401     Carolyn Wells   \n",
              "2      402     Carolyn Wells   \n",
              "3      403  CHARLES KINGSLEY   \n",
              "4      404  Charles Kingsley   \n",
              "...    ...               ...   \n",
              "4719  8027        wikijunior   \n",
              "4720  8028        wikijunior   \n",
              "4721  8029        wikijunior   \n",
              "4722  8030        wikijunior   \n",
              "4723  8031        wikijunior   \n",
              "\n",
              "                                                  Title  \\\n",
              "0                                       Patty's Suitors   \n",
              "1                         Two Little Women on a Holiday   \n",
              "2                                         Patty Blossom   \n",
              "3        THE WATER-BABIES\\nA Fairy Tale for a Land-Baby   \n",
              "4     HOW THE ARGONAUTS WERE DRIVEN INTO THE UNKNOWN...   \n",
              "...                                                 ...   \n",
              "4719                             Bugs/Monarch butterfly   \n",
              "4720                                 Bugs/Walking Stick   \n",
              "4721                                   Bugs/Black Widow   \n",
              "4722                                             Solids   \n",
              "4723                                             Anials   \n",
              "\n",
              "                                              Anthology  \\\n",
              "0                                                   NaN   \n",
              "1                                                   NaN   \n",
              "2                                                   NaN   \n",
              "3                                                   NaN   \n",
              "4     The Heroes\\n       or Greek Fairy Tales for my...   \n",
              "...                                                 ...   \n",
              "4719                                      \"Wikijunior\\n   \n",
              "4720                                      \"Wikijunior\\n   \n",
              "4721                                       Wikijunior\\n   \n",
              "4722                                       Wikijunior\\n   \n",
              "4723                                       Wikijunior\\n   \n",
              "\n",
              "                                                    URL  Pub Year Categ  \\\n",
              "0     http://www.gutenberg.org/cache/epub/5631/pg563...    1914.0   Lit   \n",
              "1     http://www.gutenberg.org/cache/epub/5893/pg589...    1917.0   Lit   \n",
              "2     http://www.gutenberg.org/cache/epub/20945/pg20...    1917.0   Lit   \n",
              "3     http://www.gutenberg.org/files/25564/25564-h/2...    1863.0   Lit   \n",
              "4     http://www.gutenberg.org/files/677/677-h/677-h...    1889.0   Lit   \n",
              "...                                                 ...       ...   ...   \n",
              "4719  https://en.wikibooks.org/wiki/Wikijunior:Bugs/...    2019.0  Info   \n",
              "4720  https://en.wikibooks.org/wiki/Wikijunior:Bugs/...    2020.0  Info   \n",
              "4721  https://en.wikibooks.org/wiki/Wikijunior:Bugs/...    2020.0  Info   \n",
              "4722  https://en.wikibooks.org/wiki/Geometry_for_Ele...    2014.0  Info   \n",
              "4723  https://en.wikibooks.org/wiki/Wikijunior:Biolo...    2018.0  Info   \n",
              "\n",
              "      Sub Cat Lexile Band Location  ... BT_easiness      s.e.  \\\n",
              "0         NaN         900      mid  ...   -0.340259  0.464009   \n",
              "1         NaN         700      mid  ...   -0.315372  0.480805   \n",
              "2         NaN         900      mid  ...   -0.580118  0.476676   \n",
              "3         NaN        1300      mid  ...   -1.785965  0.526599   \n",
              "4         NaN        1300      mid  ...   -1.054013  0.450007   \n",
              "...       ...         ...      ...  ...         ...       ...   \n",
              "4719  Science   410L-600L    start  ...    0.423388  0.511439   \n",
              "4720  Science   610L-800L    start  ...   -0.614142  0.475506   \n",
              "4721  Science   610L-800L    start  ...    0.310336  0.508939   \n",
              "4722  Science   610L-800L    start  ...   -0.215279  0.514128   \n",
              "4723  Science   610L-800L    start  ...    0.300779  0.512379   \n",
              "\n",
              "      Flesch-Reading-Ease  Flesch-Kincaid-Grade-Level  \\\n",
              "0                   81.70                        5.95   \n",
              "1                   80.26                        4.86   \n",
              "2                   79.04                        6.03   \n",
              "3                   44.77                       20.51   \n",
              "4                   68.07                       12.06   \n",
              "...                   ...                         ...   \n",
              "4719                87.37                        3.59   \n",
              "4720                85.42                        4.02   \n",
              "4721                81.36                        4.60   \n",
              "4722                75.83                        5.89   \n",
              "4723                63.07                        7.23   \n",
              "\n",
              "     Automated Readability Index  SMOG Readability  \\\n",
              "0                           7.37               8.0   \n",
              "1                           4.16               7.0   \n",
              "2                           5.81               9.0   \n",
              "3                          24.87              12.0   \n",
              "4                          15.47               8.0   \n",
              "...                          ...               ...   \n",
              "4719                        4.37               7.0   \n",
              "4720                        4.32               7.0   \n",
              "4721                        5.32               8.0   \n",
              "4722                        5.84               9.0   \n",
              "4723                        6.91              10.0   \n",
              "\n",
              "      New Dale-Chall Readability Formula    CAREC  CAREC_M     CML2RI  \n",
              "0                                   6.55  0.12102  0.11952  12.097815  \n",
              "1                                   6.25  0.04921  0.04921  22.550179  \n",
              "2                                   7.31  0.10172  0.09724  18.125279  \n",
              "3                                   8.56  0.07491  0.08856  10.959460  \n",
              "4                                   7.00  0.06356  0.08798   3.195960  \n",
              "...                                  ...      ...      ...        ...  \n",
              "4719                                6.71  0.13576  0.12908  19.271483  \n",
              "4720                                7.62  0.08258  0.05378  15.814468  \n",
              "4721                                6.92  0.10992  0.08300  22.731214  \n",
              "4722                                7.74  0.18951  0.19583  16.386932  \n",
              "4723                                6.80  0.20880  0.20880  14.830202  \n",
              "\n",
              "[4724 rows x 28 columns]"
            ],
            "text/html": [
              "\n",
              "  <div id=\"df-967b969c-c3e5-4653-b968-4047df875b01\">\n",
              "    <div class=\"colab-df-container\">\n",
              "      <div>\n",
              "<style scoped>\n",
              "    .dataframe tbody tr th:only-of-type {\n",
              "        vertical-align: middle;\n",
              "    }\n",
              "\n",
              "    .dataframe tbody tr th {\n",
              "        vertical-align: top;\n",
              "    }\n",
              "\n",
              "    .dataframe thead th {\n",
              "        text-align: right;\n",
              "    }\n",
              "</style>\n",
              "<table border=\"1\" class=\"dataframe\">\n",
              "  <thead>\n",
              "    <tr style=\"text-align: right;\">\n",
              "      <th></th>\n",
              "      <th>ID</th>\n",
              "      <th>Author</th>\n",
              "      <th>Title</th>\n",
              "      <th>Anthology</th>\n",
              "      <th>URL</th>\n",
              "      <th>Pub Year</th>\n",
              "      <th>Categ</th>\n",
              "      <th>Sub Cat</th>\n",
              "      <th>Lexile Band</th>\n",
              "      <th>Location</th>\n",
              "      <th>...</th>\n",
              "      <th>BT_easiness</th>\n",
              "      <th>s.e.</th>\n",
              "      <th>Flesch-Reading-Ease</th>\n",
              "      <th>Flesch-Kincaid-Grade-Level</th>\n",
              "      <th>Automated Readability Index</th>\n",
              "      <th>SMOG Readability</th>\n",
              "      <th>New Dale-Chall Readability Formula</th>\n",
              "      <th>CAREC</th>\n",
              "      <th>CAREC_M</th>\n",
              "      <th>CML2RI</th>\n",
              "    </tr>\n",
              "  </thead>\n",
              "  <tbody>\n",
              "    <tr>\n",
              "      <th>0</th>\n",
              "      <td>400</td>\n",
              "      <td>Carolyn Wells</td>\n",
              "      <td>Patty's Suitors</td>\n",
              "      <td>NaN</td>\n",
              "      <td>http://www.gutenberg.org/cache/epub/5631/pg563...</td>\n",
              "      <td>1914.0</td>\n",
              "      <td>Lit</td>\n",
              "      <td>NaN</td>\n",
              "      <td>900</td>\n",
              "      <td>mid</td>\n",
              "      <td>...</td>\n",
              "      <td>-0.340259</td>\n",
              "      <td>0.464009</td>\n",
              "      <td>81.70</td>\n",
              "      <td>5.95</td>\n",
              "      <td>7.37</td>\n",
              "      <td>8.0</td>\n",
              "      <td>6.55</td>\n",
              "      <td>0.12102</td>\n",
              "      <td>0.11952</td>\n",
              "      <td>12.097815</td>\n",
              "    </tr>\n",
              "    <tr>\n",
              "      <th>1</th>\n",
              "      <td>401</td>\n",
              "      <td>Carolyn Wells</td>\n",
              "      <td>Two Little Women on a Holiday</td>\n",
              "      <td>NaN</td>\n",
              "      <td>http://www.gutenberg.org/cache/epub/5893/pg589...</td>\n",
              "      <td>1917.0</td>\n",
              "      <td>Lit</td>\n",
              "      <td>NaN</td>\n",
              "      <td>700</td>\n",
              "      <td>mid</td>\n",
              "      <td>...</td>\n",
              "      <td>-0.315372</td>\n",
              "      <td>0.480805</td>\n",
              "      <td>80.26</td>\n",
              "      <td>4.86</td>\n",
              "      <td>4.16</td>\n",
              "      <td>7.0</td>\n",
              "      <td>6.25</td>\n",
              "      <td>0.04921</td>\n",
              "      <td>0.04921</td>\n",
              "      <td>22.550179</td>\n",
              "    </tr>\n",
              "    <tr>\n",
              "      <th>2</th>\n",
              "      <td>402</td>\n",
              "      <td>Carolyn Wells</td>\n",
              "      <td>Patty Blossom</td>\n",
              "      <td>NaN</td>\n",
              "      <td>http://www.gutenberg.org/cache/epub/20945/pg20...</td>\n",
              "      <td>1917.0</td>\n",
              "      <td>Lit</td>\n",
              "      <td>NaN</td>\n",
              "      <td>900</td>\n",
              "      <td>mid</td>\n",
              "      <td>...</td>\n",
              "      <td>-0.580118</td>\n",
              "      <td>0.476676</td>\n",
              "      <td>79.04</td>\n",
              "      <td>6.03</td>\n",
              "      <td>5.81</td>\n",
              "      <td>9.0</td>\n",
              "      <td>7.31</td>\n",
              "      <td>0.10172</td>\n",
              "      <td>0.09724</td>\n",
              "      <td>18.125279</td>\n",
              "    </tr>\n",
              "    <tr>\n",
              "      <th>3</th>\n",
              "      <td>403</td>\n",
              "      <td>CHARLES KINGSLEY</td>\n",
              "      <td>THE WATER-BABIES\\nA Fairy Tale for a Land-Baby</td>\n",
              "      <td>NaN</td>\n",
              "      <td>http://www.gutenberg.org/files/25564/25564-h/2...</td>\n",
              "      <td>1863.0</td>\n",
              "      <td>Lit</td>\n",
              "      <td>NaN</td>\n",
              "      <td>1300</td>\n",
              "      <td>mid</td>\n",
              "      <td>...</td>\n",
              "      <td>-1.785965</td>\n",
              "      <td>0.526599</td>\n",
              "      <td>44.77</td>\n",
              "      <td>20.51</td>\n",
              "      <td>24.87</td>\n",
              "      <td>12.0</td>\n",
              "      <td>8.56</td>\n",
              "      <td>0.07491</td>\n",
              "      <td>0.08856</td>\n",
              "      <td>10.959460</td>\n",
              "    </tr>\n",
              "    <tr>\n",
              "      <th>4</th>\n",
              "      <td>404</td>\n",
              "      <td>Charles Kingsley</td>\n",
              "      <td>HOW THE ARGONAUTS WERE DRIVEN INTO THE UNKNOWN...</td>\n",
              "      <td>The Heroes\\n       or Greek Fairy Tales for my...</td>\n",
              "      <td>http://www.gutenberg.org/files/677/677-h/677-h...</td>\n",
              "      <td>1889.0</td>\n",
              "      <td>Lit</td>\n",
              "      <td>NaN</td>\n",
              "      <td>1300</td>\n",
              "      <td>mid</td>\n",
              "      <td>...</td>\n",
              "      <td>-1.054013</td>\n",
              "      <td>0.450007</td>\n",
              "      <td>68.07</td>\n",
              "      <td>12.06</td>\n",
              "      <td>15.47</td>\n",
              "      <td>8.0</td>\n",
              "      <td>7.00</td>\n",
              "      <td>0.06356</td>\n",
              "      <td>0.08798</td>\n",
              "      <td>3.195960</td>\n",
              "    </tr>\n",
              "    <tr>\n",
              "      <th>...</th>\n",
              "      <td>...</td>\n",
              "      <td>...</td>\n",
              "      <td>...</td>\n",
              "      <td>...</td>\n",
              "      <td>...</td>\n",
              "      <td>...</td>\n",
              "      <td>...</td>\n",
              "      <td>...</td>\n",
              "      <td>...</td>\n",
              "      <td>...</td>\n",
              "      <td>...</td>\n",
              "      <td>...</td>\n",
              "      <td>...</td>\n",
              "      <td>...</td>\n",
              "      <td>...</td>\n",
              "      <td>...</td>\n",
              "      <td>...</td>\n",
              "      <td>...</td>\n",
              "      <td>...</td>\n",
              "      <td>...</td>\n",
              "      <td>...</td>\n",
              "    </tr>\n",
              "    <tr>\n",
              "      <th>4719</th>\n",
              "      <td>8027</td>\n",
              "      <td>wikijunior</td>\n",
              "      <td>Bugs/Monarch butterfly</td>\n",
              "      <td>\"Wikijunior\\n</td>\n",
              "      <td>https://en.wikibooks.org/wiki/Wikijunior:Bugs/...</td>\n",
              "      <td>2019.0</td>\n",
              "      <td>Info</td>\n",
              "      <td>Science</td>\n",
              "      <td>410L-600L</td>\n",
              "      <td>start</td>\n",
              "      <td>...</td>\n",
              "      <td>0.423388</td>\n",
              "      <td>0.511439</td>\n",
              "      <td>87.37</td>\n",
              "      <td>3.59</td>\n",
              "      <td>4.37</td>\n",
              "      <td>7.0</td>\n",
              "      <td>6.71</td>\n",
              "      <td>0.13576</td>\n",
              "      <td>0.12908</td>\n",
              "      <td>19.271483</td>\n",
              "    </tr>\n",
              "    <tr>\n",
              "      <th>4720</th>\n",
              "      <td>8028</td>\n",
              "      <td>wikijunior</td>\n",
              "      <td>Bugs/Walking Stick</td>\n",
              "      <td>\"Wikijunior\\n</td>\n",
              "      <td>https://en.wikibooks.org/wiki/Wikijunior:Bugs/...</td>\n",
              "      <td>2020.0</td>\n",
              "      <td>Info</td>\n",
              "      <td>Science</td>\n",
              "      <td>610L-800L</td>\n",
              "      <td>start</td>\n",
              "      <td>...</td>\n",
              "      <td>-0.614142</td>\n",
              "      <td>0.475506</td>\n",
              "      <td>85.42</td>\n",
              "      <td>4.02</td>\n",
              "      <td>4.32</td>\n",
              "      <td>7.0</td>\n",
              "      <td>7.62</td>\n",
              "      <td>0.08258</td>\n",
              "      <td>0.05378</td>\n",
              "      <td>15.814468</td>\n",
              "    </tr>\n",
              "    <tr>\n",
              "      <th>4721</th>\n",
              "      <td>8029</td>\n",
              "      <td>wikijunior</td>\n",
              "      <td>Bugs/Black Widow</td>\n",
              "      <td>Wikijunior\\n</td>\n",
              "      <td>https://en.wikibooks.org/wiki/Wikijunior:Bugs/...</td>\n",
              "      <td>2020.0</td>\n",
              "      <td>Info</td>\n",
              "      <td>Science</td>\n",
              "      <td>610L-800L</td>\n",
              "      <td>start</td>\n",
              "      <td>...</td>\n",
              "      <td>0.310336</td>\n",
              "      <td>0.508939</td>\n",
              "      <td>81.36</td>\n",
              "      <td>4.60</td>\n",
              "      <td>5.32</td>\n",
              "      <td>8.0</td>\n",
              "      <td>6.92</td>\n",
              "      <td>0.10992</td>\n",
              "      <td>0.08300</td>\n",
              "      <td>22.731214</td>\n",
              "    </tr>\n",
              "    <tr>\n",
              "      <th>4722</th>\n",
              "      <td>8030</td>\n",
              "      <td>wikijunior</td>\n",
              "      <td>Solids</td>\n",
              "      <td>Wikijunior\\n</td>\n",
              "      <td>https://en.wikibooks.org/wiki/Geometry_for_Ele...</td>\n",
              "      <td>2014.0</td>\n",
              "      <td>Info</td>\n",
              "      <td>Science</td>\n",
              "      <td>610L-800L</td>\n",
              "      <td>start</td>\n",
              "      <td>...</td>\n",
              "      <td>-0.215279</td>\n",
              "      <td>0.514128</td>\n",
              "      <td>75.83</td>\n",
              "      <td>5.89</td>\n",
              "      <td>5.84</td>\n",
              "      <td>9.0</td>\n",
              "      <td>7.74</td>\n",
              "      <td>0.18951</td>\n",
              "      <td>0.19583</td>\n",
              "      <td>16.386932</td>\n",
              "    </tr>\n",
              "    <tr>\n",
              "      <th>4723</th>\n",
              "      <td>8031</td>\n",
              "      <td>wikijunior</td>\n",
              "      <td>Anials</td>\n",
              "      <td>Wikijunior\\n</td>\n",
              "      <td>https://en.wikibooks.org/wiki/Wikijunior:Biolo...</td>\n",
              "      <td>2018.0</td>\n",
              "      <td>Info</td>\n",
              "      <td>Science</td>\n",
              "      <td>610L-800L</td>\n",
              "      <td>start</td>\n",
              "      <td>...</td>\n",
              "      <td>0.300779</td>\n",
              "      <td>0.512379</td>\n",
              "      <td>63.07</td>\n",
              "      <td>7.23</td>\n",
              "      <td>6.91</td>\n",
              "      <td>10.0</td>\n",
              "      <td>6.80</td>\n",
              "      <td>0.20880</td>\n",
              "      <td>0.20880</td>\n",
              "      <td>14.830202</td>\n",
              "    </tr>\n",
              "  </tbody>\n",
              "</table>\n",
              "<p>4724 rows × 28 columns</p>\n",
              "</div>\n",
              "      <button class=\"colab-df-convert\" onclick=\"convertToInteractive('df-967b969c-c3e5-4653-b968-4047df875b01')\"\n",
              "              title=\"Convert this dataframe to an interactive table.\"\n",
              "              style=\"display:none;\">\n",
              "        \n",
              "  <svg xmlns=\"http://www.w3.org/2000/svg\" height=\"24px\"viewBox=\"0 0 24 24\"\n",
              "       width=\"24px\">\n",
              "    <path d=\"M0 0h24v24H0V0z\" fill=\"none\"/>\n",
              "    <path d=\"M18.56 5.44l.94 2.06.94-2.06 2.06-.94-2.06-.94-.94-2.06-.94 2.06-2.06.94zm-11 1L8.5 8.5l.94-2.06 2.06-.94-2.06-.94L8.5 2.5l-.94 2.06-2.06.94zm10 10l.94 2.06.94-2.06 2.06-.94-2.06-.94-.94-2.06-.94 2.06-2.06.94z\"/><path d=\"M17.41 7.96l-1.37-1.37c-.4-.4-.92-.59-1.43-.59-.52 0-1.04.2-1.43.59L10.3 9.45l-7.72 7.72c-.78.78-.78 2.05 0 2.83L4 21.41c.39.39.9.59 1.41.59.51 0 1.02-.2 1.41-.59l7.78-7.78 2.81-2.81c.8-.78.8-2.07 0-2.86zM5.41 20L4 18.59l7.72-7.72 1.47 1.35L5.41 20z\"/>\n",
              "  </svg>\n",
              "      </button>\n",
              "      \n",
              "  <style>\n",
              "    .colab-df-container {\n",
              "      display:flex;\n",
              "      flex-wrap:wrap;\n",
              "      gap: 12px;\n",
              "    }\n",
              "\n",
              "    .colab-df-convert {\n",
              "      background-color: #E8F0FE;\n",
              "      border: none;\n",
              "      border-radius: 50%;\n",
              "      cursor: pointer;\n",
              "      display: none;\n",
              "      fill: #1967D2;\n",
              "      height: 32px;\n",
              "      padding: 0 0 0 0;\n",
              "      width: 32px;\n",
              "    }\n",
              "\n",
              "    .colab-df-convert:hover {\n",
              "      background-color: #E2EBFA;\n",
              "      box-shadow: 0px 1px 2px rgba(60, 64, 67, 0.3), 0px 1px 3px 1px rgba(60, 64, 67, 0.15);\n",
              "      fill: #174EA6;\n",
              "    }\n",
              "\n",
              "    [theme=dark] .colab-df-convert {\n",
              "      background-color: #3B4455;\n",
              "      fill: #D2E3FC;\n",
              "    }\n",
              "\n",
              "    [theme=dark] .colab-df-convert:hover {\n",
              "      background-color: #434B5C;\n",
              "      box-shadow: 0px 1px 3px 1px rgba(0, 0, 0, 0.15);\n",
              "      filter: drop-shadow(0px 1px 2px rgba(0, 0, 0, 0.3));\n",
              "      fill: #FFFFFF;\n",
              "    }\n",
              "  </style>\n",
              "\n",
              "      <script>\n",
              "        const buttonEl =\n",
              "          document.querySelector('#df-967b969c-c3e5-4653-b968-4047df875b01 button.colab-df-convert');\n",
              "        buttonEl.style.display =\n",
              "          google.colab.kernel.accessAllowed ? 'block' : 'none';\n",
              "\n",
              "        async function convertToInteractive(key) {\n",
              "          const element = document.querySelector('#df-967b969c-c3e5-4653-b968-4047df875b01');\n",
              "          const dataTable =\n",
              "            await google.colab.kernel.invokeFunction('convertToInteractive',\n",
              "                                                     [key], {});\n",
              "          if (!dataTable) return;\n",
              "\n",
              "          const docLinkHtml = 'Like what you see? Visit the ' +\n",
              "            '<a target=\"_blank\" href=https://colab.research.google.com/notebooks/data_table.ipynb>data table notebook</a>'\n",
              "            + ' to learn more about interactive tables.';\n",
              "          element.innerHTML = '';\n",
              "          dataTable['output_type'] = 'display_data';\n",
              "          await google.colab.output.renderOutput(dataTable, element);\n",
              "          const docLink = document.createElement('div');\n",
              "          docLink.innerHTML = docLinkHtml;\n",
              "          element.appendChild(docLink);\n",
              "        }\n",
              "      </script>\n",
              "    </div>\n",
              "  </div>\n",
              "  "
            ]
          },
          "metadata": {},
          "execution_count": 7
        }
      ]
    },
    {
      "cell_type": "code",
      "source": [
        "data['Excerpt']"
      ],
      "metadata": {
        "id": "E1MhFecvxa8s",
        "colab": {
          "base_uri": "https://localhost:8080/"
        },
        "outputId": "50419220-ba33-405b-efb1-c3bfde07a1fe"
      },
      "execution_count": null,
      "outputs": [
        {
          "output_type": "execute_result",
          "data": {
            "text/plain": [
              "0       When the young people returned to the ballroom...\n",
              "1       All through dinner time, Mrs. Fayre was somewh...\n",
              "2       As Roger had predicted, the snow departed as q...\n",
              "3       Mr. Grimes was to come up next morning to Sir ...\n",
              "4       And outside before the palace a great garden w...\n",
              "                              ...                        \n",
              "4719    The name Monarch means “king”. An adult Monarc...\n",
              "4720    Walking Sticks are long, thin, and slow-moving...\n",
              "4721    A Black Widow is a shiny black spider. It has ...\n",
              "4722    Solids are shapes that you can actually touch....\n",
              "4723    Animals are made of many cells. They eat thing...\n",
              "Name: Excerpt, Length: 4724, dtype: object"
            ]
          },
          "metadata": {},
          "execution_count": 8
        }
      ]
    },
    {
      "cell_type": "code",
      "source": [
        "data[\"BT_easiness\"]"
      ],
      "metadata": {
        "id": "sdqG9n74z-zn",
        "colab": {
          "base_uri": "https://localhost:8080/"
        },
        "outputId": "48f9687a-dbb7-4856-ce0a-cb56df311a58"
      },
      "execution_count": null,
      "outputs": [
        {
          "output_type": "execute_result",
          "data": {
            "text/plain": [
              "0      -0.340259\n",
              "1      -0.315372\n",
              "2      -0.580118\n",
              "3      -1.785965\n",
              "4      -1.054013\n",
              "          ...   \n",
              "4719    0.423388\n",
              "4720   -0.614142\n",
              "4721    0.310336\n",
              "4722   -0.215279\n",
              "4723    0.300779\n",
              "Name: BT_easiness, Length: 4724, dtype: float64"
            ]
          },
          "metadata": {},
          "execution_count": 9
        }
      ]
    },
    {
      "cell_type": "markdown",
      "source": [
        "Let's take a look at the distribution for BT_easinesss to see if normalizing the labels makes sense."
      ],
      "metadata": {
        "id": "dv7W_ld0VkN_"
      }
    },
    {
      "cell_type": "code",
      "source": [
        "data[\"BT_easiness\"].plot.hist()"
      ],
      "metadata": {
        "id": "_UIA_KuUVqsV",
        "colab": {
          "base_uri": "https://localhost:8080/",
          "height": 283
        },
        "outputId": "1dd94497-73b8-4300-c844-6d12a3005485"
      },
      "execution_count": null,
      "outputs": [
        {
          "output_type": "execute_result",
          "data": {
            "text/plain": [
              "<matplotlib.axes._subplots.AxesSubplot at 0x7f25a75cce10>"
            ]
          },
          "metadata": {},
          "execution_count": 10
        },
        {
          "output_type": "display_data",
          "data": {
            "text/plain": [
              "<Figure size 432x288 with 1 Axes>"
            ],
            "image/png": "[encoded data removed]"
          },
          "metadata": {
            "needs_background": "light"
          }
        }
      ]
    },
    {
      "cell_type": "markdown",
      "source": [
        "# 2 Data Cleaning and Tokenization"
      ],
      "metadata": {
        "id": "mm9WnZCw4gxN"
      }
    },
    {
      "cell_type": "markdown",
      "source": [
        "Even though readability relies on punctuation, the baseline model will not use it."
      ],
      "metadata": {
        "id": "bS4__IRw4j6S"
      }
    },
    {
      "cell_type": "code",
      "source": [
        "glove = torchtext.vocab.GloVe(name = \"6B\", dim = 100, max_vectors=30000)"
      ],
      "metadata": {
        "id": "0vr7m00A4jZQ",
        "colab": {
          "base_uri": "https://localhost:8080/"
        },
        "outputId": "6fd8883c-dbc0-448f-d058-b24e44295b64"
      },
      "execution_count": null,
      "outputs": [
        {
          "output_type": "stream",
          "name": "stderr",
          "text": [
            ".vector_cache/glove.6B.zip: 862MB [02:39, 5.40MB/s]                           \n",
            "100%|█████████▉| 29999/30000 [00:01<00:00, 21966.71it/s]\n"
          ]
        }
      ]
    },
    {
      "cell_type": "code",
      "source": [
        "def tokenize_df(excerpts, target):\n",
        "  tokenizer = torchtext.data.utils.get_tokenizer(\"basic_english\")\n",
        "  token_series = excerpts.apply(lambda x: tokenizer(x))\n",
        "  df = pd.concat([token_series, target], axis=1)\n",
        "\n",
        "  return df"
      ],
      "metadata": {
        "id": "3xjP4DYwHdSL"
      },
      "execution_count": null,
      "outputs": []
    },
    {
      "cell_type": "code",
      "source": [
        "data_tok = tokenize_df(data[\"Excerpt\"],data[\"BT_easiness\"])"
      ],
      "metadata": {
        "id": "kS4ky5CiKiv1"
      },
      "execution_count": null,
      "outputs": []
    },
    {
      "cell_type": "code",
      "source": [
        "data_tok"
      ],
      "metadata": {
        "id": "7RTB7EkZOdA2",
        "colab": {
          "base_uri": "https://localhost:8080/",
          "height": 423
        },
        "outputId": "3db0d6e5-0435-4f4e-d862-2eb5343fa3d3"
      },
      "execution_count": null,
      "outputs": [
        {
          "output_type": "execute_result",
          "data": {
            "text/plain": [
              "                                                Excerpt  BT_easiness\n",
              "0     [when, the, young, people, returned, to, the, ...    -0.340259\n",
              "1     [all, through, dinner, time, ,, mrs, ., fayre,...    -0.315372\n",
              "2     [as, roger, had, predicted, ,, the, snow, depa...    -0.580118\n",
              "3     [mr, ., grimes, was, to, come, up, next, morni...    -1.785965\n",
              "4     [and, outside, before, the, palace, a, great, ...    -1.054013\n",
              "...                                                 ...          ...\n",
              "4719  [the, name, monarch, means, “king”, ., an, adu...     0.423388\n",
              "4720  [walking, sticks, are, long, ,, thin, ,, and, ...    -0.614142\n",
              "4721  [a, black, widow, is, a, shiny, black, spider,...     0.310336\n",
              "4722  [solids, are, shapes, that, you, can, actually...    -0.215279\n",
              "4723  [animals, are, made, of, many, cells, ., they,...     0.300779\n",
              "\n",
              "[4724 rows x 2 columns]"
            ],
            "text/html": [
              "\n",
              "  <div id=\"df-d0bda0cd-af6f-44bf-ba27-1184f40888cd\">\n",
              "    <div class=\"colab-df-container\">\n",
              "      <div>\n",
              "<style scoped>\n",
              "    .dataframe tbody tr th:only-of-type {\n",
              "        vertical-align: middle;\n",
              "    }\n",
              "\n",
              "    .dataframe tbody tr th {\n",
              "        vertical-align: top;\n",
              "    }\n",
              "\n",
              "    .dataframe thead th {\n",
              "        text-align: right;\n",
              "    }\n",
              "</style>\n",
              "<table border=\"1\" class=\"dataframe\">\n",
              "  <thead>\n",
              "    <tr style=\"text-align: right;\">\n",
              "      <th></th>\n",
              "      <th>Excerpt</th>\n",
              "      <th>BT_easiness</th>\n",
              "    </tr>\n",
              "  </thead>\n",
              "  <tbody>\n",
              "    <tr>\n",
              "      <th>0</th>\n",
              "      <td>[when, the, young, people, returned, to, the, ...</td>\n",
              "      <td>-0.340259</td>\n",
              "    </tr>\n",
              "    <tr>\n",
              "      <th>1</th>\n",
              "      <td>[all, through, dinner, time, ,, mrs, ., fayre,...</td>\n",
              "      <td>-0.315372</td>\n",
              "    </tr>\n",
              "    <tr>\n",
              "      <th>2</th>\n",
              "      <td>[as, roger, had, predicted, ,, the, snow, depa...</td>\n",
              "      <td>-0.580118</td>\n",
              "    </tr>\n",
              "    <tr>\n",
              "      <th>3</th>\n",
              "      <td>[mr, ., grimes, was, to, come, up, next, morni...</td>\n",
              "      <td>-1.785965</td>\n",
              "    </tr>\n",
              "    <tr>\n",
              "      <th>4</th>\n",
              "      <td>[and, outside, before, the, palace, a, great, ...</td>\n",
              "      <td>-1.054013</td>\n",
              "    </tr>\n",
              "    <tr>\n",
              "      <th>...</th>\n",
              "      <td>...</td>\n",
              "      <td>...</td>\n",
              "    </tr>\n",
              "    <tr>\n",
              "      <th>4719</th>\n",
              "      <td>[the, name, monarch, means, “king”, ., an, adu...</td>\n",
              "      <td>0.423388</td>\n",
              "    </tr>\n",
              "    <tr>\n",
              "      <th>4720</th>\n",
              "      <td>[walking, sticks, are, long, ,, thin, ,, and, ...</td>\n",
              "      <td>-0.614142</td>\n",
              "    </tr>\n",
              "    <tr>\n",
              "      <th>4721</th>\n",
              "      <td>[a, black, widow, is, a, shiny, black, spider,...</td>\n",
              "      <td>0.310336</td>\n",
              "    </tr>\n",
              "    <tr>\n",
              "      <th>4722</th>\n",
              "      <td>[solids, are, shapes, that, you, can, actually...</td>\n",
              "      <td>-0.215279</td>\n",
              "    </tr>\n",
              "    <tr>\n",
              "      <th>4723</th>\n",
              "      <td>[animals, are, made, of, many, cells, ., they,...</td>\n",
              "      <td>0.300779</td>\n",
              "    </tr>\n",
              "  </tbody>\n",
              "</table>\n",
              "<p>4724 rows × 2 columns</p>\n",
              "</div>\n",
              "      <button class=\"colab-df-convert\" onclick=\"convertToInteractive('df-d0bda0cd-af6f-44bf-ba27-1184f40888cd')\"\n",
              "              title=\"Convert this dataframe to an interactive table.\"\n",
              "              style=\"display:none;\">\n",
              "        \n",
              "  <svg xmlns=\"http://www.w3.org/2000/svg\" height=\"24px\"viewBox=\"0 0 24 24\"\n",
              "       width=\"24px\">\n",
              "    <path d=\"M0 0h24v24H0V0z\" fill=\"none\"/>\n",
              "    <path d=\"M18.56 5.44l.94 2.06.94-2.06 2.06-.94-2.06-.94-.94-2.06-.94 2.06-2.06.94zm-11 1L8.5 8.5l.94-2.06 2.06-.94-2.06-.94L8.5 2.5l-.94 2.06-2.06.94zm10 10l.94 2.06.94-2.06 2.06-.94-2.06-.94-.94-2.06-.94 2.06-2.06.94z\"/><path d=\"M17.41 7.96l-1.37-1.37c-.4-.4-.92-.59-1.43-.59-.52 0-1.04.2-1.43.59L10.3 9.45l-7.72 7.72c-.78.78-.78 2.05 0 2.83L4 21.41c.39.39.9.59 1.41.59.51 0 1.02-.2 1.41-.59l7.78-7.78 2.81-2.81c.8-.78.8-2.07 0-2.86zM5.41 20L4 18.59l7.72-7.72 1.47 1.35L5.41 20z\"/>\n",
              "  </svg>\n",
              "      </button>\n",
              "      \n",
              "  <style>\n",
              "    .colab-df-container {\n",
              "      display:flex;\n",
              "      flex-wrap:wrap;\n",
              "      gap: 12px;\n",
              "    }\n",
              "\n",
              "    .colab-df-convert {\n",
              "      background-color: #E8F0FE;\n",
              "      border: none;\n",
              "      border-radius: 50%;\n",
              "      cursor: pointer;\n",
              "      display: none;\n",
              "      fill: #1967D2;\n",
              "      height: 32px;\n",
              "      padding: 0 0 0 0;\n",
              "      width: 32px;\n",
              "    }\n",
              "\n",
              "    .colab-df-convert:hover {\n",
              "      background-color: #E2EBFA;\n",
              "      box-shadow: 0px 1px 2px rgba(60, 64, 67, 0.3), 0px 1px 3px 1px rgba(60, 64, 67, 0.15);\n",
              "      fill: #174EA6;\n",
              "    }\n",
              "\n",
              "    [theme=dark] .colab-df-convert {\n",
              "      background-color: #3B4455;\n",
              "      fill: #D2E3FC;\n",
              "    }\n",
              "\n",
              "    [theme=dark] .colab-df-convert:hover {\n",
              "      background-color: #434B5C;\n",
              "      box-shadow: 0px 1px 3px 1px rgba(0, 0, 0, 0.15);\n",
              "      filter: drop-shadow(0px 1px 2px rgba(0, 0, 0, 0.3));\n",
              "      fill: #FFFFFF;\n",
              "    }\n",
              "  </style>\n",
              "\n",
              "      <script>\n",
              "        const buttonEl =\n",
              "          document.querySelector('#df-d0bda0cd-af6f-44bf-ba27-1184f40888cd button.colab-df-convert');\n",
              "        buttonEl.style.display =\n",
              "          google.colab.kernel.accessAllowed ? 'block' : 'none';\n",
              "\n",
              "        async function convertToInteractive(key) {\n",
              "          const element = document.querySelector('#df-d0bda0cd-af6f-44bf-ba27-1184f40888cd');\n",
              "          const dataTable =\n",
              "            await google.colab.kernel.invokeFunction('convertToInteractive',\n",
              "                                                     [key], {});\n",
              "          if (!dataTable) return;\n",
              "\n",
              "          const docLinkHtml = 'Like what you see? Visit the ' +\n",
              "            '<a target=\"_blank\" href=https://colab.research.google.com/notebooks/data_table.ipynb>data table notebook</a>'\n",
              "            + ' to learn more about interactive tables.';\n",
              "          element.innerHTML = '';\n",
              "          dataTable['output_type'] = 'display_data';\n",
              "          await google.colab.output.renderOutput(dataTable, element);\n",
              "          const docLink = document.createElement('div');\n",
              "          docLink.innerHTML = docLinkHtml;\n",
              "          element.appendChild(docLink);\n",
              "        }\n",
              "      </script>\n",
              "    </div>\n",
              "  </div>\n",
              "  "
            ]
          },
          "metadata": {},
          "execution_count": 14
        }
      ]
    },
    {
      "cell_type": "markdown",
      "source": [
        "As in tutorial, we will get the indexes of each word in a PyTorch tensor."
      ],
      "metadata": {
        "id": "CPL-K2I1K-kO"
      }
    },
    {
      "cell_type": "markdown",
      "source": [
        "## Normalizing Labels"
      ],
      "metadata": {
        "id": "XsNptkeRWB2R"
      }
    },
    {
      "cell_type": "markdown",
      "source": [
        "Let's normalize BT_easiness to be between -1 and 1."
      ],
      "metadata": {
        "id": "KErjpHcwWHJm"
      }
    },
    {
      "cell_type": "code",
      "source": [
        "from sklearn.preprocessing import MinMaxScaler  \n",
        "\n",
        "scaler = MinMaxScaler((0, 1))\n",
        "data_tok['BT_easiness'] = scaler.fit_transform(data_tok[['BT_easiness']])"
      ],
      "metadata": {
        "id": "XBhLHr_gWEMi"
      },
      "execution_count": null,
      "outputs": []
    },
    {
      "cell_type": "code",
      "source": [
        "data_tok['BT_easiness'].plot.hist()"
      ],
      "metadata": {
        "id": "oiaUzruiZGby",
        "colab": {
          "base_uri": "https://localhost:8080/",
          "height": 283
        },
        "outputId": "d13be737-67f6-4a00-dfad-769602b4793e"
      },
      "execution_count": null,
      "outputs": [
        {
          "output_type": "execute_result",
          "data": {
            "text/plain": [
              "<matplotlib.axes._subplots.AxesSubplot at 0x7f25a24b7c10>"
            ]
          },
          "metadata": {},
          "execution_count": 62
        },
        {
          "output_type": "display_data",
          "data": {
            "text/plain": [
              "<Figure size 432x288 with 1 Axes>"
            ],
            "image/png": "[encoded data removed]"
          },
          "metadata": {
            "needs_background": "light"
          }
        }
      ]
    },
    {
      "cell_type": "code",
      "source": [
        "#@title\n",
        "from sklearn.preprocessing import MinMaxScaler  \n",
        "\n",
        "scaler = MinMaxScaler((0, 1))\n",
        "\n",
        "data_normalized = data.copy()\n",
        "data_normalized['BT_easiness'] = scaler.fit_transform(data[['BT_easiness']])\n",
        "\n",
        "(data_normalized.loc[(data_normalized['BT_easiness'] < 0.1)]['Excerpt'])[695]"
      ],
      "metadata": {
        "cellView": "form",
        "id": "h7Iqmt-XEU8E"
      },
      "execution_count": null,
      "outputs": []
    },
    {
      "cell_type": "markdown",
      "source": [
        "## GloVe Embeddings"
      ],
      "metadata": {
        "id": "K0dMAO9oRni5"
      }
    },
    {
      "cell_type": "code",
      "source": [
        "def get_excerpt_idx(glove_vec, data):\n",
        "  train, valid, test = [], [], []\n",
        "  concat = []\n",
        "\n",
        "  for i, row in enumerate(data[\"Excerpt\"]): \n",
        "    # Get the index of the word, provided in exists within the GloVe corpus\n",
        "    idxs = [glove_vec.stoi[tok]\n",
        "            for tok in row\n",
        "            if tok in glove_vec.stoi]\n",
        "\n",
        "    # Convert to tensors\n",
        "    idxs = torch.tensor(idxs)\n",
        "    labels = torch.tensor(data[\"BT_easiness\"][i])   \n",
        "\n",
        "    concat.append((idxs,labels))\n",
        "\n",
        "  # Split into training, validation and testing\n",
        "  train, valid_test = train_test_split(concat, test_size = 0.2, random_state = 1)\n",
        "  valid, test = train_test_split(valid_test, test_size = 0.2, random_state = 1)\n",
        "\n",
        "  return train, valid, test "
      ],
      "metadata": {
        "id": "TyOUqDGMK5j8"
      },
      "execution_count": null,
      "outputs": []
    },
    {
      "cell_type": "code",
      "source": [
        "train_set, valid_set, test_set = get_excerpt_idx(glove, data_tok)"
      ],
      "metadata": {
        "id": "9bHMJi0GbrLh"
      },
      "execution_count": null,
      "outputs": []
    },
    {
      "cell_type": "code",
      "source": [
        "excerpt, label = train_set[0]\n",
        "print(excerpt)\n",
        "print(label)"
      ],
      "metadata": {
        "id": "_wJ-gUizRQhO",
        "colab": {
          "base_uri": "https://localhost:8080/"
        },
        "outputId": "65af5211-2d27-40f4-d7f2-0809c799a927"
      },
      "execution_count": null,
      "outputs": [
        {
          "output_type": "stream",
          "name": "stdout",
          "text": [
            "tensor([   61,     0, 10384,    15,  2846,    60,    67, 19779,    71,   629,\n",
            "           48,  1738,     4,   886,    71,   242,    66,     5,   190,     7,\n",
            "         2385,   106,     0,  3076,    17,    71,  1955,     2,     0,   629,\n",
            "            1,    34,  4592,    15,    67,    66,     3,     0,  1888,    61,\n",
            "         3709,     7,  7394,   263,   135,    25,     0,  3505,     1,  2436,\n",
            "            0, 10384,    25,   244,    71,  1955,     1,     5,  1236,    71,\n",
            "          420,    17,   103,   152,    75,     0,  7703,     2,     0,  1955,\n",
            "         4839,   137,     4,    44,   629,     1,   154,   103,     3,    44,\n",
            "        24614,     1,     5, 19779,  4247,     4,   242,     5,  1762,    44,\n",
            "         4705,  2003,     2,     0,   629,     1,   646,   101,   236,     7,\n",
            "         2867,     5,  1174,    10,     7,  3930,     1,     5,    39,   208,\n",
            "           66,     2,    49,   109,    39,   263,   531,     7,    42,  2097,\n",
            "         2242,    13,  1828,  2094,     6,  6859,     2,    61,    39,   752,\n",
            "            0,   241,    20,  1858,     4,   101,    12,    44,  2003,   414,\n",
            "           30,   425,     1,     5,    39,    22,   442,   309,     4,   190,\n",
            "         4255,   244,  1000,    19,     4,   197,    39,   189,  1022,    20,\n",
            "            2])\n",
            "tensor(0.6646, dtype=torch.float64)\n"
          ]
        }
      ]
    },
    {
      "cell_type": "markdown",
      "source": [
        "## Embedding Layer"
      ],
      "metadata": {
        "id": "T1EsQmrZS-EE"
      }
    },
    {
      "cell_type": "code",
      "source": [
        "glove_emb = nn.Embedding.from_pretrained(glove.vectors) \n",
        "\n",
        "ex_emb = glove_emb(excerpt)\n",
        "ex_emb.shape"
      ],
      "metadata": {
        "id": "CCUyi8rtTCou",
        "colab": {
          "base_uri": "https://localhost:8080/"
        },
        "outputId": "c8f6177d-ac43-46fb-8bca-aa45f240429e"
      },
      "execution_count": null,
      "outputs": [
        {
          "output_type": "execute_result",
          "data": {
            "text/plain": [
              "torch.Size([161, 100])"
            ]
          },
          "metadata": {},
          "execution_count": 69
        }
      ]
    },
    {
      "cell_type": "markdown",
      "source": [
        "# 3 LSTM Model"
      ],
      "metadata": {
        "id": "yNJ9jIdEAMYO"
      }
    },
    {
      "cell_type": "code",
      "execution_count": null,
      "metadata": {
        "id": "MnMBwyGJ6lBs"
      },
      "outputs": [],
      "source": [
        "class baseLSTM(nn.Module):\n",
        "    def __init__(self, input_size, hidden_size, num_classes):\n",
        "        super(baseLSTM, self).__init__()\n",
        "        self.emb = nn.Embedding.from_pretrained(glove.vectors)\n",
        "        self.hidden_size = hidden_size\n",
        "        self.rnn = nn.LSTM(input_size, hidden_size, batch_first=True)\n",
        "        self.fc = nn.Linear(hidden_size, num_classes)\n",
        "    \n",
        "    def forward(self, x):\n",
        "        x = self.emb(x)\n",
        "        h0 = torch.zeros(1, x.size(0), self.hidden_size)\n",
        "        c0 = torch.zeros(1, x.size(0), self.hidden_size)\n",
        "        out, _ = self.rnn(x, (h0, c0))\n",
        "        out = self.fc(out[:, -1, :])\n",
        "        return out"
      ]
    },
    {
      "cell_type": "markdown",
      "source": [
        "## Padding and Batching"
      ],
      "metadata": {
        "id": "3Dv-ZcSaTqc6"
      }
    },
    {
      "cell_type": "code",
      "source": [
        "import random\n",
        "\n",
        "class exBatcher:\n",
        "    def __init__(self, excerpts, batch_size=32, drop_last=False):\n",
        "        # store excerpts by length\n",
        "        self.excerpts_by_length = {}\n",
        "        for words, label in excerpts:\n",
        "            # compute the length of the tweet\n",
        "            wlen = words.shape[0]\n",
        "            # put the tweet in the correct key inside self.tweet_by_length\n",
        "            if wlen not in self.excerpts_by_length:\n",
        "                self.excerpts_by_length[wlen] = []\n",
        "            self.excerpts_by_length[wlen].append((words, label),)\n",
        "         \n",
        "        #  create a DataLoader for each set of excerpts of the same length\n",
        "        self.loaders = {wlen : torch.utils.data.DataLoader(\n",
        "                                    excerpts,\n",
        "                                    batch_size=batch_size,\n",
        "                                    shuffle=True,\n",
        "                                    drop_last=drop_last) # omit last batch if smaller than batch_size\n",
        "            for wlen, excerpts in self.excerpts_by_length.items()}\n",
        "        \n",
        "    def __iter__(self): # called by Python to create an iterator\n",
        "        # make an iterator for every tweet length\n",
        "        iters = [iter(loader) for loader in self.loaders.values()]\n",
        "        while iters:\n",
        "            # pick an iterator (a length)\n",
        "            im = random.choice(iters)\n",
        "            try:\n",
        "                yield next(im)\n",
        "            except StopIteration:\n",
        "                # no more elements in the iterator, remove it\n",
        "                iters.remove(im)"
      ],
      "metadata": {
        "id": "OFqAWMfDTr6Z"
      },
      "execution_count": null,
      "outputs": []
    },
    {
      "cell_type": "code",
      "source": [
        "train_set, valid_set, test_set = get_excerpt_idx(glove, data_tok)\n",
        "batch_size = 32\n",
        "num_workers = 1\n",
        "train_loader = exBatcher(train_set, batch_size = 64, drop_last = True)\n",
        "valid_loader = exBatcher(valid_set, batch_size = 64, drop_last = True)\n",
        "test_loader = exBatcher(test_set, batch_size = 64, drop_last = True)"
      ],
      "metadata": {
        "id": "qLiRmNX6ap3u"
      },
      "execution_count": null,
      "outputs": []
    },
    {
      "cell_type": "markdown",
      "source": [
        "# 4 Training"
      ],
      "metadata": {
        "id": "I8fnETmX_4pb"
      }
    },
    {
      "cell_type": "code",
      "source": [
        "!pip install torchmetrics"
      ],
      "metadata": {
        "colab": {
          "base_uri": "https://localhost:8080/"
        },
        "id": "lOxlknTGMDXF",
        "outputId": "fa1b0b32-1049-445a-e649-adf973a9f681"
      },
      "execution_count": null,
      "outputs": [
        {
          "output_type": "stream",
          "name": "stdout",
          "text": [
            "Looking in indexes: https://pypi.org/simple, https://us-python.pkg.dev/colab-wheels/public/simple/\n",
            "Collecting torchmetrics\n",
            "  Downloading torchmetrics-0.10.2-py3-none-any.whl (529 kB)\n",
            "\u001b[K     |████████████████████████████████| 529 kB 7.3 MB/s \n",
            "\u001b[?25hRequirement already satisfied: torch>=1.3.1 in /usr/local/lib/python3.7/dist-packages (from torchmetrics) (1.12.1+cu113)\n",
            "Requirement already satisfied: typing-extensions in /usr/local/lib/python3.7/dist-packages (from torchmetrics) (4.1.1)\n",
            "Requirement already satisfied: numpy>=1.17.2 in /usr/local/lib/python3.7/dist-packages (from torchmetrics) (1.21.6)\n",
            "Requirement already satisfied: packaging in /usr/local/lib/python3.7/dist-packages (from torchmetrics) (21.3)\n",
            "Requirement already satisfied: pyparsing!=3.0.5,>=2.0.2 in /usr/local/lib/python3.7/dist-packages (from packaging->torchmetrics) (3.0.9)\n",
            "Installing collected packages: torchmetrics\n",
            "Successfully installed torchmetrics-0.10.2\n"
          ]
        }
      ]
    },
    {
      "cell_type": "code",
      "source": [
        "# def get_accuracy(model, data_loader):\n",
        "  #  R_total, total = 0, 0\n",
        "   # for excerpts, labels in data_loader:\n",
        "    #      output = torch.flatten(model(excerpts.data))\n",
        "    #      R = r2(labels, output.detach())\n",
        "    #      R_total += R\n",
        "     #     total += 1\n",
        "        \n",
        "        #  dist = (output.data - labels).pow(2).sum()\n",
        "        #  square_labels = labels.pow(2).sum()\n",
        "         # R = 1 - dist / square_labels\n",
        "         # R_total += R\n",
        "        #  total += 1\n",
        " #   try:\n",
        "   #   return R_total / total\n",
        "  #  except:\n",
        "   #   return 0\n",
        "  #  return R_total / total\n",
        "\n",
        "from torchmetrics import MeanSquaredError\n",
        "\n",
        "def get_rmse(model, data_loader):\n",
        "  mean_squared_error = MeanSquaredError()   \n",
        "  running_rmse = 0.0\n",
        "  for excerpts, labels in data_loader:\n",
        "    outputs = (torch.flatten(model(excerpts.data)))\n",
        "    running_rmse += np.sqrt((mean_squared_error(outputs, labels)).detach().numpy())\n",
        "\n",
        "  return running_rmse/batch_size\n",
        "\n",
        "def train_rnn_network(model, train, valid, num_epochs=5, learning_rate=1e-5):\n",
        "    criterion = nn.MSELoss()\n",
        "    optimizer = torch.optim.Adam(model.parameters(), lr=learning_rate)\n",
        "    mean_squared_error = MeanSquaredError()   \n",
        "\n",
        "    losses, train_rmse, val_rmse = [], [], []\n",
        "    epochs = []\n",
        "\n",
        "    for epoch in range(num_epochs):\n",
        "\n",
        "        running_rmse = 0.0\n",
        "        for excerpts, labels in train:\n",
        "            optimizer.zero_grad()\n",
        "            pred = model(excerpts)\n",
        "            loss = criterion(pred, labels.float())\n",
        "            loss.backward()\n",
        "            optimizer.step()  \n",
        "            running_rmse += np.sqrt((mean_squared_error(torch.flatten(pred), labels)).detach().numpy())\n",
        "      \n",
        "        losses.append(float(loss))\n",
        "        epochs.append(epoch)\n",
        "        train_rmse.append(running_rmse/batch_size)\n",
        "        val_rmse.append(get_rmse(model, train_loader))\n",
        "\n",
        "        print(\"Epoch %d; Loss %f; Train RMSE %f; Val RMSE %f\" % (\n",
        "              epoch+1, loss, train_rmse[-1], val_rmse[-1]))\n",
        "        \n",
        "        torch.save(model.state_dict(), \"curr_model\") \n",
        "\n",
        "    # plotting\n",
        "    plt.title(\"Training Loss\")\n",
        "    plt.plot(losses, label=\"Train\")\n",
        "    plt.xlabel(\"Epoch\")\n",
        "    plt.ylabel(\"Loss\")\n",
        "    plt.show()\n",
        "\n",
        "    plt.title(\"Training Curve\")\n",
        "    plt.plot(epochs, train_rmse, label=\"Train\")\n",
        "    plt.plot(epochs, val_rmse, label=\"Validation\")\n",
        "    plt.xlabel(\"Epoch\")\n",
        "    plt.ylabel(\"Root Mean Squared Error\")\n",
        "    plt.legend(loc='best')\n",
        "    plt.show()"
      ],
      "metadata": {
        "id": "dco9w13IAuaU"
      },
      "execution_count": null,
      "outputs": []
    },
    {
      "cell_type": "code",
      "source": [
        "model = baseLSTM(100, 100, 1)\n",
        "train_rnn_network(model, train_loader, valid_loader, num_epochs=15, learning_rate=0.0001)\n",
        "get_rmse(model, test_loader)"
      ],
      "metadata": {
        "id": "zISaowahBAzL",
        "colab": {
          "base_uri": "https://localhost:8080/",
          "height": 925
        },
        "outputId": "685f2896-747d-4b88-f159-044f0e81078f"
      },
      "execution_count": null,
      "outputs": [
        {
          "output_type": "stream",
          "name": "stderr",
          "text": [
            "/usr/local/lib/python3.7/dist-packages/torch/nn/modules/loss.py:530: UserWarning: Using a target size (torch.Size([64])) that is different to the input size (torch.Size([64, 1])). This will likely lead to incorrect results due to broadcasting. Please ensure they have the same size.\n",
            "  return F.mse_loss(input, target, reduction=self.reduction)\n"
          ]
        },
        {
          "output_type": "stream",
          "name": "stdout",
          "text": [
            "Epoch 1; Loss 0.122136; Train RMSE 0.161803; Val RMSE 0.139264\n",
            "Epoch 2; Loss 0.089876; Train RMSE 0.121544; Val RMSE 0.103332\n",
            "Epoch 3; Loss 0.046086; Train RMSE 0.092145; Val RMSE 0.079124\n",
            "Epoch 4; Loss 0.052087; Train RMSE 0.075511; Val RMSE 0.073340\n",
            "Epoch 5; Loss 0.036628; Train RMSE 0.073208; Val RMSE 0.074606\n",
            "Epoch 6; Loss 0.035764; Train RMSE 0.073755; Val RMSE 0.072967\n",
            "Epoch 7; Loss 0.052888; Train RMSE 0.074433; Val RMSE 0.074492\n",
            "Epoch 8; Loss 0.032884; Train RMSE 0.073985; Val RMSE 0.074241\n",
            "Epoch 9; Loss 0.037158; Train RMSE 0.074293; Val RMSE 0.072783\n",
            "Epoch 10; Loss 0.035166; Train RMSE 0.073338; Val RMSE 0.073706\n",
            "Epoch 11; Loss 0.038242; Train RMSE 0.073403; Val RMSE 0.073744\n",
            "Epoch 12; Loss 0.045777; Train RMSE 0.073822; Val RMSE 0.072704\n",
            "Epoch 13; Loss 0.038062; Train RMSE 0.073497; Val RMSE 0.073140\n",
            "Epoch 14; Loss 0.042416; Train RMSE 0.073448; Val RMSE 0.073587\n",
            "Epoch 15; Loss 0.051377; Train RMSE 0.072579; Val RMSE 0.072665\n"
          ]
        },
        {
          "output_type": "display_data",
          "data": {
            "text/plain": [
              "<Figure size 432x288 with 1 Axes>"
            ],
            "image/png": "[encoded data removed]"
          },
          "metadata": {
            "needs_background": "light"
          }
        },
        {
          "output_type": "display_data",
          "data": {
            "text/plain": [
              "<Figure size 432x288 with 1 Axes>"
            ],
            "image/png": "[encoded data removed]"
          },
          "metadata": {
            "needs_background": "light"
          }
        },
        {
          "output_type": "execute_result",
          "data": {
            "text/plain": [
              "0.0"
            ]
          },
          "metadata": {},
          "execution_count": 74
        }
      ]
    },
    {
      "cell_type": "markdown",
      "source": [
        "# 5 Model Evaluation"
      ],
      "metadata": {
        "id": "G680G9ZlAIy6"
      }
    },
    {
      "cell_type": "markdown",
      "source": [
        "Let's perform some quick qualitative evaluation on two example texts."
      ],
      "metadata": {
        "id": "zrZ-FR71Xb3W"
      }
    },
    {
      "cell_type": "code",
      "source": [
        "def get_normalized_bt(text, model, glove_vec):\n",
        "  tokenizer = torchtext.data.utils.get_tokenizer(\"basic_english\")\n",
        "  # Get the index of the word, provided in exists within the GloVe corpus\n",
        "  idxs = [glove_vec.stoi[tok]\n",
        "          for tok in tokenizer(text)\n",
        "          if tok in glove_vec.stoi]\n",
        "\n",
        "  # Convert to tensors\n",
        "  idxs = torch.tensor(idxs) \n",
        "  pred = model(idxs.unsqueeze(0))\n",
        "\n",
        "  return pred"
      ],
      "metadata": {
        "id": "jbyBu8j-Xk72"
      },
      "execution_count": null,
      "outputs": []
    },
    {
      "cell_type": "code",
      "source": [
        "get_normalized_bt(\"Hitler was born in Braunau am Inn in Austria-Hungary and was raised near Linz. He lived in Vienna later in the first decade of the 1900s and moved to Germany in 1913. He was decorated during his service in the German Army in World War I. In 1919, he joined the German Workers' Party (DAP), the precursor of the Nazi Party, and was appointed leader of the Nazi Party in 1921. In 1923, he attempted to seize governmental power in a failed coup in Munich and was imprisoned with a sentence of five years. In jail, he dictated the first volume of his autobiography and political manifesto Mein Kampf (My Struggle). After his early release in 1924, Hitler gained popular support by attacking the Treaty of Versailles and promoting pan-Germanism, anti-Semitism and anti-communism with charismatic oratory and Nazi propaganda. He frequently denounced international capitalism and communism as part of a Jewish conspiracy.\", model, glove)"
      ],
      "metadata": {
        "colab": {
          "base_uri": "https://localhost:8080/"
        },
        "id": "WHYy-OlnZGhu",
        "outputId": "c774606e-c811-4248-a154-6622ebcd6ff7"
      },
      "execution_count": null,
      "outputs": [
        {
          "output_type": "execute_result",
          "data": {
            "text/plain": [
              "tensor([[0.4099]], grad_fn=<AddmmBackward0>)"
            ]
          },
          "metadata": {},
          "execution_count": 76
        }
      ]
    },
    {
      "cell_type": "code",
      "source": [
        "data_normalized = data.copy()\n",
        "data_normalized['BT_easiness'] = scaler.fit_transform(data[['BT_easiness']]) \n",
        "np.mean(data_normalized.loc[(data_normalized['BT_easiness'] > 0.38) & (data_normalized['BT_easiness'] < 0.39)]['Flesch-Kincaid-Grade-Level'])"
      ],
      "metadata": {
        "colab": {
          "base_uri": "https://localhost:8080/"
        },
        "id": "m11shuz-a7fr",
        "outputId": "0cea925b-5573-45e4-c5ed-75665b2bbc66"
      },
      "execution_count": null,
      "outputs": [
        {
          "output_type": "execute_result",
          "data": {
            "text/plain": [
              "11.443"
            ]
          },
          "metadata": {},
          "execution_count": 77
        }
      ]
    },
    {
      "cell_type": "code",
      "source": [
        "get_normalized_bt(\"The sun did not shine. It was too wet to play. SO we sat in the house all that cold, cold, wet day. I sat there with Sally. We sat there, we two. ANd I said, HOw I wish We had something to do! To wet to go out, and too cold to play ball. So we sat in the house. We did nothing at all. We looked! Wo all we could do was sit. ANd we did not like it. Not one little bit.  I know it is wet and the sun is not sunny but we can have lots of good fun that is funny! I know some good games we could play, said the cat. I know some new tricks, said the cat in the hat. A lot of good tricks. I will show them to you. YOur mother will not mind at all if I do.\", model, glove)"
      ],
      "metadata": {
        "colab": {
          "base_uri": "https://localhost:8080/"
        },
        "id": "oQrLj8wgd_Ts",
        "outputId": "09ced490-b77a-44ca-cc47-fbb3c7ab1b35"
      },
      "execution_count": null,
      "outputs": [
        {
          "output_type": "execute_result",
          "data": {
            "text/plain": [
              "tensor([[0.5813]], grad_fn=<AddmmBackward0>)"
            ]
          },
          "metadata": {},
          "execution_count": 78
        }
      ]
    },
    {
      "cell_type": "code",
      "source": [
        "np.mean(data_normalized.loc[(data_normalized['BT_easiness'] > 0.31) & (data_normalized['BT_easiness'] < 0.32)]['Flesch-Kincaid-Grade-Level'])"
      ],
      "metadata": {
        "colab": {
          "base_uri": "https://localhost:8080/"
        },
        "id": "_rsw2Aw_a94g",
        "outputId": "bb14e309-11e8-41c3-823e-510731f9e9db"
      },
      "execution_count": null,
      "outputs": [
        {
          "output_type": "execute_result",
          "data": {
            "text/plain": [
              "12.938627450980393"
            ]
          },
          "metadata": {},
          "execution_count": 79
        }
      ]
    },
    {
      "cell_type": "code",
      "source": [
        "get_normalized_bt(\"Near the top of the world is land called tundra. The tundra is flat and has no trees. It is covered by snow and ice most of the year. In the spring, the snow and ice melt. Beneath the ground, the soil stays frozen. The ground gets very soggy. It is a marsh. Small yellow flowers grow from the cold, wet ground. They are called marsh marigolds. Flies hide in the flowers. They soak up the Sun’s energy and get warm. The flies fly from flower to flower. They help the flowers make seeds. Caribou eat the flowers. The caribou also give the plants the nutrients they need to grow. Mother flies lay their eggs inside the caribou’s nose. It is warm there. The young flies eat and grow. The young flies get bigger. AH-CHOO! The caribou sneezes. The flies land on the ground. Soon, they will be adults. These plants and animals need each other. Can you think of others?\", model, glove)"
      ],
      "metadata": {
        "colab": {
          "base_uri": "https://localhost:8080/"
        },
        "id": "YFthrMi5k1Ts",
        "outputId": "23729c92-5df8-4b06-c66a-3647069e944d"
      },
      "execution_count": null,
      "outputs": [
        {
          "output_type": "execute_result",
          "data": {
            "text/plain": [
              "tensor([[0.4805]], grad_fn=<AddmmBackward0>)"
            ]
          },
          "metadata": {},
          "execution_count": 83
        }
      ]
    }
  ]
}